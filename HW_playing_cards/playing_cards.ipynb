{
 "nbformat": 4,
 "nbformat_minor": 0,
 "metadata": {
  "colab": {
   "provenance": [],
   "authorship_tag": "ABX9TyPcKEUomfS4uDdtsNXY1SR6"
  },
  "kernelspec": {
   "name": "python3",
   "language": "python",
   "display_name": "Python 3 (ipykernel)"
  },
  "language_info": {
   "name": "python"
  }
 },
 "cells": [
  {
   "cell_type": "code",
   "execution_count": 1,
   "metadata": {
    "id": "D6m89udYUGc1",
    "executionInfo": {
     "status": "ok",
     "timestamp": 1702908483003,
     "user_tz": -180,
     "elapsed": 266,
     "user": {
      "displayName": "Александр Лобко",
      "userId": "15546699391851907393"
     }
    },
    "ExecuteTime": {
     "end_time": "2024-01-03T21:27:02.637472300Z",
     "start_time": "2024-01-03T21:27:02.626670200Z"
    }
   },
   "outputs": [],
   "source": [
    "import random\n",
    "\n",
    "class Card:\n",
    "    SUIT_SYMBOLS = {\n",
    "        'spades': '\\u2660',\n",
    "        'hearts': '\\u2665',\n",
    "        'diamonds': '\\u2666',\n",
    "        'clubs': '\\u2663'\n",
    "    }\n",
    "\n",
    "    VALID_SUITS = SUIT_SYMBOLS.keys()\n",
    "    VALID_RANKS = {'A', '2', '3', '4', '5', '6', '7', '8', '9', '10', 'J', 'Q', 'K'}\n",
    "\n",
    "\n",
    "    def __init__(self, suit, rank):\n",
    "        self.suit = suit\n",
    "        self.rank = rank\n",
    "\n",
    "\n",
    "    @property\n",
    "    def suit(self):\n",
    "        return self._suit\n",
    "\n",
    "    @suit.setter\n",
    "    def suit(self, suit):\n",
    "        if suit in self.VALID_SUITS:\n",
    "            self._suit = suit\n",
    "        else:\n",
    "            print('Wrong suit! Сhoose from clubs, diamonds, hearts or spades')\n",
    "            self._suit = None\n",
    "\n",
    "    @property\n",
    "    def rank(self):\n",
    "        return self._rank\n",
    "\n",
    "    @rank.setter\n",
    "    def rank(self, rank):\n",
    "        if  rank in self.VALID_RANKS:\n",
    "            self._rank = rank\n",
    "        else:\n",
    "            print('Wrong value! Сhoose number from 2-10 or J, Q, K, A')\n",
    "            self._rank = None\n",
    "\n",
    "    @property\n",
    "    def weight(self):\n",
    "        if self.rank in ('J', 'Q', 'K'):\n",
    "            return '10'\n",
    "        elif self.rank == 'A':\n",
    "            return '11'\n",
    "        else:\n",
    "            return self.rank\n",
    "\n",
    "\n",
    "    def __repr__(self):\n",
    "        if self.suit and self.rank:\n",
    "            show = f''' ____________\n",
    "|{self.rank.ljust(2)}         {self.SUIT_SYMBOLS[self.suit]}|\n",
    "|            |\n",
    "|            |\n",
    "|            |\n",
    "|            |\n",
    "|            |\n",
    "|            |\n",
    "| {self.SUIT_SYMBOLS[self.suit]}        {self.rank.ljust(2)}|\n",
    "|____________|'''\n",
    "            return show\n",
    "        return 'Card is not defined'"
   ]
  },
  {
   "cell_type": "code",
   "source": [
    "card1 = Card('spades', 'K')\n",
    "print(card1.weight)\n",
    "print(card1)\n",
    "\n",
    "card2 = Card('hearts', 'Q')\n",
    "print(card2.weight)\n",
    "print(card2)\n",
    "\n",
    "card3 = Card('diamonds', '9')\n",
    "print(card3.weight)\n",
    "print(card3)\n",
    "\n",
    "card4 = Card('clubs', 'A')\n",
    "print(card4.weight)\n",
    "print(card4)"
   ],
   "metadata": {
    "colab": {
     "base_uri": "https://localhost:8080/"
    },
    "id": "n-eQeRSHfYlO",
    "executionInfo": {
     "status": "ok",
     "timestamp": 1702907888769,
     "user_tz": -180,
     "elapsed": 306,
     "user": {
      "displayName": "Александр Лобко",
      "userId": "15546699391851907393"
     }
    },
    "outputId": "be062277-36a4-4522-8bb1-745fd005a340",
    "ExecuteTime": {
     "end_time": "2024-01-03T21:27:06.574643200Z",
     "start_time": "2024-01-03T21:27:06.493688400Z"
    }
   },
   "execution_count": 2,
   "outputs": [
    {
     "name": "stdout",
     "output_type": "stream",
     "text": [
      "10\n",
      " ____________\n",
      "|K          ♠|\n",
      "|            |\n",
      "|            |\n",
      "|            |\n",
      "|            |\n",
      "|            |\n",
      "|            |\n",
      "| ♠        K |\n",
      "|____________|\n",
      "10\n",
      " ____________\n",
      "|Q          ♥|\n",
      "|            |\n",
      "|            |\n",
      "|            |\n",
      "|            |\n",
      "|            |\n",
      "|            |\n",
      "| ♥        Q |\n",
      "|____________|\n",
      "9\n",
      " ____________\n",
      "|9          ♦|\n",
      "|            |\n",
      "|            |\n",
      "|            |\n",
      "|            |\n",
      "|            |\n",
      "|            |\n",
      "| ♦        9 |\n",
      "|____________|\n",
      "11\n",
      " ____________\n",
      "|A          ♣|\n",
      "|            |\n",
      "|            |\n",
      "|            |\n",
      "|            |\n",
      "|            |\n",
      "|            |\n",
      "| ♣        A |\n",
      "|____________|\n"
     ]
    }
   ]
  },
  {
   "cell_type": "code",
   "source": [
    "def sum_cards(*args):\n",
    "    result = sum([int(x.weight) for x in args])\n",
    "    aces = [x for x in args if x.rank == 'A']\n",
    "    for _ in aces:\n",
    "        if result > 21:\n",
    "            result -= 10\n",
    "    return result"
   ],
   "metadata": {
    "id": "EeeeBm-aoos-",
    "executionInfo": {
     "status": "ok",
     "timestamp": 1702908147634,
     "user_tz": -180,
     "elapsed": 251,
     "user": {
      "displayName": "Александр Лобко",
      "userId": "15546699391851907393"
     }
    },
    "ExecuteTime": {
     "end_time": "2024-01-03T21:27:35.338933400Z",
     "start_time": "2024-01-03T21:27:35.322936500Z"
    }
   },
   "execution_count": 3,
   "outputs": []
  },
  {
   "cell_type": "code",
   "source": [
    "sum_cards(card3, card4, card4)"
   ],
   "metadata": {
    "colab": {
     "base_uri": "https://localhost:8080/"
    },
    "id": "W9TWOJBIJFtn",
    "executionInfo": {
     "status": "ok",
     "timestamp": 1702908178791,
     "user_tz": -180,
     "elapsed": 254,
     "user": {
      "displayName": "Александр Лобко",
      "userId": "15546699391851907393"
     }
    },
    "outputId": "e687c814-6a36-4b32-e91a-16ad40e6eecf",
    "ExecuteTime": {
     "end_time": "2024-01-03T21:27:44.096977700Z",
     "start_time": "2024-01-03T21:27:44.069869600Z"
    }
   },
   "execution_count": 4,
   "outputs": [
    {
     "data": {
      "text/plain": "21"
     },
     "execution_count": 4,
     "metadata": {},
     "output_type": "execute_result"
    }
   ]
  },
  {
   "cell_type": "code",
   "source": [
    "def create_deck():\n",
    "    deck = []\n",
    "    for i in ('A', '2', '3', '4', '5', '6', '7', '8', '9', '10', 'J', 'Q', 'K'):\n",
    "        for j in ('spades', 'hearts', 'diamonds', 'clubs'):\n",
    "            deck.append(Card(j, i))\n",
    "    return deck\n"
   ],
   "metadata": {
    "id": "XsiGKiOCPkRf",
    "executionInfo": {
     "status": "ok",
     "timestamp": 1702908620286,
     "user_tz": -180,
     "elapsed": 264,
     "user": {
      "displayName": "Александр Лобко",
      "userId": "15546699391851907393"
     }
    },
    "ExecuteTime": {
     "end_time": "2024-01-03T21:27:55.658213300Z",
     "start_time": "2024-01-03T21:27:55.643218200Z"
    }
   },
   "execution_count": 5,
   "outputs": []
  },
  {
   "cell_type": "code",
   "source": [
    "deck = create_deck()\n",
    "deck"
   ],
   "metadata": {
    "id": "mDdnQG_JQJeT",
    "ExecuteTime": {
     "end_time": "2024-01-03T21:27:58.521598800Z",
     "start_time": "2024-01-03T21:27:58.495861400Z"
    }
   },
   "execution_count": 6,
   "outputs": [
    {
     "data": {
      "text/plain": "[ ____________\n |A          ♠|\n |            |\n |            |\n |            |\n |            |\n |            |\n |            |\n | ♠        A |\n |____________|,\n  ____________\n |A          ♥|\n |            |\n |            |\n |            |\n |            |\n |            |\n |            |\n | ♥        A |\n |____________|,\n  ____________\n |A          ♦|\n |            |\n |            |\n |            |\n |            |\n |            |\n |            |\n | ♦        A |\n |____________|,\n  ____________\n |A          ♣|\n |            |\n |            |\n |            |\n |            |\n |            |\n |            |\n | ♣        A |\n |____________|,\n  ____________\n |2          ♠|\n |            |\n |            |\n |            |\n |            |\n |            |\n |            |\n | ♠        2 |\n |____________|,\n  ____________\n |2          ♥|\n |            |\n |            |\n |            |\n |            |\n |            |\n |            |\n | ♥        2 |\n |____________|,\n  ____________\n |2          ♦|\n |            |\n |            |\n |            |\n |            |\n |            |\n |            |\n | ♦        2 |\n |____________|,\n  ____________\n |2          ♣|\n |            |\n |            |\n |            |\n |            |\n |            |\n |            |\n | ♣        2 |\n |____________|,\n  ____________\n |3          ♠|\n |            |\n |            |\n |            |\n |            |\n |            |\n |            |\n | ♠        3 |\n |____________|,\n  ____________\n |3          ♥|\n |            |\n |            |\n |            |\n |            |\n |            |\n |            |\n | ♥        3 |\n |____________|,\n  ____________\n |3          ♦|\n |            |\n |            |\n |            |\n |            |\n |            |\n |            |\n | ♦        3 |\n |____________|,\n  ____________\n |3          ♣|\n |            |\n |            |\n |            |\n |            |\n |            |\n |            |\n | ♣        3 |\n |____________|,\n  ____________\n |4          ♠|\n |            |\n |            |\n |            |\n |            |\n |            |\n |            |\n | ♠        4 |\n |____________|,\n  ____________\n |4          ♥|\n |            |\n |            |\n |            |\n |            |\n |            |\n |            |\n | ♥        4 |\n |____________|,\n  ____________\n |4          ♦|\n |            |\n |            |\n |            |\n |            |\n |            |\n |            |\n | ♦        4 |\n |____________|,\n  ____________\n |4          ♣|\n |            |\n |            |\n |            |\n |            |\n |            |\n |            |\n | ♣        4 |\n |____________|,\n  ____________\n |5          ♠|\n |            |\n |            |\n |            |\n |            |\n |            |\n |            |\n | ♠        5 |\n |____________|,\n  ____________\n |5          ♥|\n |            |\n |            |\n |            |\n |            |\n |            |\n |            |\n | ♥        5 |\n |____________|,\n  ____________\n |5          ♦|\n |            |\n |            |\n |            |\n |            |\n |            |\n |            |\n | ♦        5 |\n |____________|,\n  ____________\n |5          ♣|\n |            |\n |            |\n |            |\n |            |\n |            |\n |            |\n | ♣        5 |\n |____________|,\n  ____________\n |6          ♠|\n |            |\n |            |\n |            |\n |            |\n |            |\n |            |\n | ♠        6 |\n |____________|,\n  ____________\n |6          ♥|\n |            |\n |            |\n |            |\n |            |\n |            |\n |            |\n | ♥        6 |\n |____________|,\n  ____________\n |6          ♦|\n |            |\n |            |\n |            |\n |            |\n |            |\n |            |\n | ♦        6 |\n |____________|,\n  ____________\n |6          ♣|\n |            |\n |            |\n |            |\n |            |\n |            |\n |            |\n | ♣        6 |\n |____________|,\n  ____________\n |7          ♠|\n |            |\n |            |\n |            |\n |            |\n |            |\n |            |\n | ♠        7 |\n |____________|,\n  ____________\n |7          ♥|\n |            |\n |            |\n |            |\n |            |\n |            |\n |            |\n | ♥        7 |\n |____________|,\n  ____________\n |7          ♦|\n |            |\n |            |\n |            |\n |            |\n |            |\n |            |\n | ♦        7 |\n |____________|,\n  ____________\n |7          ♣|\n |            |\n |            |\n |            |\n |            |\n |            |\n |            |\n | ♣        7 |\n |____________|,\n  ____________\n |8          ♠|\n |            |\n |            |\n |            |\n |            |\n |            |\n |            |\n | ♠        8 |\n |____________|,\n  ____________\n |8          ♥|\n |            |\n |            |\n |            |\n |            |\n |            |\n |            |\n | ♥        8 |\n |____________|,\n  ____________\n |8          ♦|\n |            |\n |            |\n |            |\n |            |\n |            |\n |            |\n | ♦        8 |\n |____________|,\n  ____________\n |8          ♣|\n |            |\n |            |\n |            |\n |            |\n |            |\n |            |\n | ♣        8 |\n |____________|,\n  ____________\n |9          ♠|\n |            |\n |            |\n |            |\n |            |\n |            |\n |            |\n | ♠        9 |\n |____________|,\n  ____________\n |9          ♥|\n |            |\n |            |\n |            |\n |            |\n |            |\n |            |\n | ♥        9 |\n |____________|,\n  ____________\n |9          ♦|\n |            |\n |            |\n |            |\n |            |\n |            |\n |            |\n | ♦        9 |\n |____________|,\n  ____________\n |9          ♣|\n |            |\n |            |\n |            |\n |            |\n |            |\n |            |\n | ♣        9 |\n |____________|,\n  ____________\n |10         ♠|\n |            |\n |            |\n |            |\n |            |\n |            |\n |            |\n | ♠        10|\n |____________|,\n  ____________\n |10         ♥|\n |            |\n |            |\n |            |\n |            |\n |            |\n |            |\n | ♥        10|\n |____________|,\n  ____________\n |10         ♦|\n |            |\n |            |\n |            |\n |            |\n |            |\n |            |\n | ♦        10|\n |____________|,\n  ____________\n |10         ♣|\n |            |\n |            |\n |            |\n |            |\n |            |\n |            |\n | ♣        10|\n |____________|,\n  ____________\n |J          ♠|\n |            |\n |            |\n |            |\n |            |\n |            |\n |            |\n | ♠        J |\n |____________|,\n  ____________\n |J          ♥|\n |            |\n |            |\n |            |\n |            |\n |            |\n |            |\n | ♥        J |\n |____________|,\n  ____________\n |J          ♦|\n |            |\n |            |\n |            |\n |            |\n |            |\n |            |\n | ♦        J |\n |____________|,\n  ____________\n |J          ♣|\n |            |\n |            |\n |            |\n |            |\n |            |\n |            |\n | ♣        J |\n |____________|,\n  ____________\n |Q          ♠|\n |            |\n |            |\n |            |\n |            |\n |            |\n |            |\n | ♠        Q |\n |____________|,\n  ____________\n |Q          ♥|\n |            |\n |            |\n |            |\n |            |\n |            |\n |            |\n | ♥        Q |\n |____________|,\n  ____________\n |Q          ♦|\n |            |\n |            |\n |            |\n |            |\n |            |\n |            |\n | ♦        Q |\n |____________|,\n  ____________\n |Q          ♣|\n |            |\n |            |\n |            |\n |            |\n |            |\n |            |\n | ♣        Q |\n |____________|,\n  ____________\n |K          ♠|\n |            |\n |            |\n |            |\n |            |\n |            |\n |            |\n | ♠        K |\n |____________|,\n  ____________\n |K          ♥|\n |            |\n |            |\n |            |\n |            |\n |            |\n |            |\n | ♥        K |\n |____________|,\n  ____________\n |K          ♦|\n |            |\n |            |\n |            |\n |            |\n |            |\n |            |\n | ♦        K |\n |____________|,\n  ____________\n |K          ♣|\n |            |\n |            |\n |            |\n |            |\n |            |\n |            |\n | ♣        K |\n |____________|]"
     },
     "execution_count": 6,
     "metadata": {},
     "output_type": "execute_result"
    }
   ]
  },
  {
   "cell_type": "code",
   "source": [
    "user_db = {}\n",
    "\n",
    "def user_act():\n",
    "    act = input('''\n",
    "    Input action number:\n",
    "    1. create card\n",
    "    2. create deck\n",
    "    3. shuffle deck\n",
    "    4. take a card from the deck\n",
    "    5. show sum your cards''')\n",
    "    if act == '1':\n",
    "        name = input('input card name')\n",
    "        suit = input('input suit')\n",
    "        rank = input('input rank')\n",
    "        user_db[name] = Card(suit, rank)\n",
    "        return user_db[name]\n",
    "    elif act == '2':\n",
    "        name = input('input deck name')\n",
    "        user_db[name] = create_deck()\n",
    "        return user_db[name]\n",
    "    elif act == '3':\n",
    "        name = input('input deck name to shuffle')\n",
    "        if name in user_db:\n",
    "            random.shuffle(user_db[name])\n",
    "        else:\n",
    "            return 'wrong name'\n",
    "        return user_db[name]\n",
    "    elif act == '4':\n",
    "        hand_name = input('input hand name')\n",
    "        deck_name = input('input deck name to take card from')\n",
    "        if name in user_db:\n",
    "            user_db[deck_name] = [user_db[deck_name].pop()]\n",
    "        else:\n",
    "            return 'wrong deck name'\n",
    "        return user_db[hand_name]\n",
    "    elif act == '5':\n",
    "        hand_name = input('input hand name')\n",
    "        return sum_cards(*user_db[hand_name])\n",
    "    else:\n",
    "        return 'Wrong input'\n"
   ],
   "metadata": {
    "id": "JnkvgL34WToD",
    "executionInfo": {
     "status": "ok",
     "timestamp": 1702911732714,
     "user_tz": -180,
     "elapsed": 262,
     "user": {
      "displayName": "Александр Лобко",
      "userId": "15546699391851907393"
     }
    },
    "ExecuteTime": {
     "end_time": "2024-01-03T21:29:12.631065100Z",
     "start_time": "2024-01-03T21:29:12.622070900Z"
    }
   },
   "execution_count": 8,
   "outputs": []
  },
  {
   "cell_type": "code",
   "source": [
    "user_act()\n"
   ],
   "metadata": {
    "colab": {
     "base_uri": "https://localhost:8080/"
    },
    "id": "Ga4adfsYbr2P",
    "outputId": "f5291e03-7f42-44e5-e0f4-10d62d3c0e79",
    "ExecuteTime": {
     "end_time": "2024-01-03T21:32:36.992643400Z",
     "start_time": "2024-01-03T21:32:15.593623700Z"
    }
   },
   "execution_count": 11,
   "outputs": [
    {
     "data": {
      "text/plain": " ____________\n|A          ♣|\n|            |\n|            |\n|            |\n|            |\n|            |\n|            |\n| ♣        A |\n|____________|"
     },
     "execution_count": 11,
     "metadata": {},
     "output_type": "execute_result"
    }
   ]
  }
 ]
}
